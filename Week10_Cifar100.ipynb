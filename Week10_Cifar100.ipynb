{
  "nbformat": 4,
  "nbformat_minor": 0,
  "metadata": {
    "colab": {
      "provenance": [],
      "mount_file_id": "12XKuiqaZHVTkIbrygkZ30s5X7JCMu5Ys",
      "authorship_tag": "ABX9TyPKYXGi6kSDC7Nkv8srxfXB",
      "include_colab_link": true
    },
    "kernelspec": {
      "name": "python3",
      "display_name": "Python 3"
    },
    "language_info": {
      "name": "python"
    }
  },
  "cells": [
    {
      "cell_type": "markdown",
      "metadata": {
        "id": "view-in-github",
        "colab_type": "text"
      },
      "source": [
        "<a href=\"https://colab.research.google.com/github/Shinhuynry/AI/blob/main/Week10_Cifar100.ipynb\" target=\"_parent\"><img src=\"https://colab.research.google.com/assets/colab-badge.svg\" alt=\"Open In Colab\"/></a>"
      ]
    },
    {
      "cell_type": "code",
      "source": [
        "from keras.datasets import cifar100\n",
        "import matplotlib.pyplot as plt\n",
        "from keras.models import Sequential\n",
        "from keras.layers import Dense\n",
        "from keras.utils import to_categorical #Để chuyển thành one hot encoding\n",
        "from keras.models import load_model\n",
        "import numpy as np"
      ],
      "metadata": {
        "id": "HlQKOqvqx161"
      },
      "execution_count": 12,
      "outputs": []
    },
    {
      "cell_type": "code",
      "source": [
        "(train_images, train_labels), (test_images, test_labels) = cifar100.load_data()"
      ],
      "metadata": {
        "id": "x-Jd7lrOyUbD"
      },
      "execution_count": 8,
      "outputs": []
    },
    {
      "cell_type": "code",
      "source": [
        "(train_images, train_labels), (test_images, test_labels) = cifar100.load_data()"
      ],
      "metadata": {
        "id": "8ZIRkS5gz7TZ"
      },
      "execution_count": 9,
      "outputs": []
    },
    {
      "cell_type": "code",
      "source": [
        "train_images = train_images.reshape((50000,32*32*3)) #Chuyển về input 1 chiều\n",
        "train_images = train_images.astype('float32')/255 #Ảnh có giá trị 0-->255, Scale xuống thành 0-->1\n",
        "test_images =  test_images.reshape((10000, 32*32*3)) #Chuyển về input 1 chiều\n",
        "test_images = test_images.astype('float32')/255\n",
        "train_images.shape\n",
        "     "
      ],
      "metadata": {
        "id": "7nW72yihz-Dw",
        "colab": {
          "base_uri": "https://localhost:8080/"
        },
        "outputId": "9667554a-e30f-4909-dbf3-af20b3cc696d"
      },
      "execution_count": 10,
      "outputs": [
        {
          "output_type": "execute_result",
          "data": {
            "text/plain": [
              "(50000, 3072)"
            ]
          },
          "metadata": {},
          "execution_count": 10
        }
      ]
    },
    {
      "cell_type": "code",
      "source": [
        "train_labels = to_categorical(train_labels) #One hot encoding\n",
        "test_labels = to_categorical(test_labels)\n",
        "print(train_labels.shape)\n",
        "print(test_labels.shape)"
      ],
      "metadata": {
        "colab": {
          "base_uri": "https://localhost:8080/"
        },
        "id": "jeo_XLGS0JCc",
        "outputId": "91819ee1-5bb4-4e08-f7e3-3f9b3b567a35"
      },
      "execution_count": 11,
      "outputs": [
        {
          "output_type": "stream",
          "name": "stdout",
          "text": [
            "(50000, 100)\n",
            "(10000, 100)\n"
          ]
        }
      ]
    },
    {
      "cell_type": "code",
      "source": [
        "model = Sequential()\n",
        "model.add(Dense(2000,input_shape=(32*32*3,), activation='relu'))\n",
        "model.add(Dense(1000, activation='relu'))\n",
        "model.add(Dense(100, activation='softmax'))\n",
        "model.summary()"
      ],
      "metadata": {
        "colab": {
          "base_uri": "https://localhost:8080/"
        },
        "id": "XqIF_-Du2HCO",
        "outputId": "08cbf1e3-73d0-44c6-8373-7092ec1e21be"
      },
      "execution_count": 13,
      "outputs": [
        {
          "output_type": "stream",
          "name": "stdout",
          "text": [
            "Model: \"sequential_1\"\n",
            "_________________________________________________________________\n",
            " Layer (type)                Output Shape              Param #   \n",
            "=================================================================\n",
            " dense (Dense)               (None, 2000)              6146000   \n",
            "                                                                 \n",
            " dense_1 (Dense)             (None, 1000)              2001000   \n",
            "                                                                 \n",
            " dense_2 (Dense)             (None, 100)               100100    \n",
            "                                                                 \n",
            "=================================================================\n",
            "Total params: 8,247,100\n",
            "Trainable params: 8,247,100\n",
            "Non-trainable params: 0\n",
            "_________________________________________________________________\n"
          ]
        }
      ]
    },
    {
      "cell_type": "code",
      "source": [
        "model.compile(optimizer=\"rmsprop\", loss=\"categorical_crossentropy\", metrics=['accuracy'])\n",
        "model.fit(train_images, train_labels, epochs=10, batch_size=128)"
      ],
      "metadata": {
        "colab": {
          "base_uri": "https://localhost:8080/"
        },
        "id": "BR2E_3OM4Ydz",
        "outputId": "e9199647-b7d7-46dc-8463-7f9a9a834ada"
      },
      "execution_count": 14,
      "outputs": [
        {
          "output_type": "stream",
          "name": "stdout",
          "text": [
            "Epoch 1/10\n",
            "391/391 [==============================] - 63s 159ms/step - loss: 4.2725 - accuracy: 0.0704\n",
            "Epoch 2/10\n",
            "391/391 [==============================] - 69s 177ms/step - loss: 3.7267 - accuracy: 0.1302\n",
            "Epoch 3/10\n",
            "391/391 [==============================] - 63s 162ms/step - loss: 3.5307 - accuracy: 0.1669\n",
            "Epoch 4/10\n",
            "391/391 [==============================] - 64s 165ms/step - loss: 3.4028 - accuracy: 0.1877\n",
            "Epoch 5/10\n",
            "391/391 [==============================] - 62s 159ms/step - loss: 3.3020 - accuracy: 0.2085\n",
            "Epoch 6/10\n",
            "391/391 [==============================] - 63s 161ms/step - loss: 3.2100 - accuracy: 0.2244\n",
            "Epoch 7/10\n",
            "391/391 [==============================] - 66s 169ms/step - loss: 3.1256 - accuracy: 0.2395\n",
            "Epoch 8/10\n",
            "391/391 [==============================] - 65s 166ms/step - loss: 3.0437 - accuracy: 0.2551\n",
            "Epoch 9/10\n",
            "391/391 [==============================] - 65s 167ms/step - loss: 2.9786 - accuracy: 0.2680\n",
            "Epoch 10/10\n",
            "391/391 [==============================] - 63s 161ms/step - loss: 2.9052 - accuracy: 0.2828\n"
          ]
        },
        {
          "output_type": "execute_result",
          "data": {
            "text/plain": [
              "<keras.callbacks.History at 0x7f71fab42970>"
            ]
          },
          "metadata": {},
          "execution_count": 14
        }
      ]
    },
    {
      "cell_type": "code",
      "source": [
        "acc, loss = model.evaluate(test_images, test_labels)\n",
        "print(acc)\n",
        "print(loss)"
      ],
      "metadata": {
        "colab": {
          "base_uri": "https://localhost:8080/"
        },
        "id": "CgD8aBLu77en",
        "outputId": "b3208d98-707e-46d0-b50d-bbe5f6646d4c"
      },
      "execution_count": 15,
      "outputs": [
        {
          "output_type": "stream",
          "name": "stdout",
          "text": [
            "313/313 [==============================] - 8s 24ms/step - loss: 3.4087 - accuracy: 0.2292\n",
            "3.408704996109009\n",
            "0.22920000553131104\n"
          ]
        }
      ]
    },
    {
      "cell_type": "code",
      "source": [
        "model.save('/content/drive/MyDrive/Colab AI/cifar100.h5')"
      ],
      "metadata": {
        "id": "dN9uW7vSzILq"
      },
      "execution_count": 16,
      "outputs": []
    },
    {
      "cell_type": "code",
      "source": [
        "model_test = load_model(\"/content/drive/MyDrive/Colab AI/cifar100.h5\")"
      ],
      "metadata": {
        "id": "MDujbwb-za0S"
      },
      "execution_count": 18,
      "outputs": []
    }
  ]
}