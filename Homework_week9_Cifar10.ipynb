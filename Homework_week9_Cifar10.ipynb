{
  "nbformat": 4,
  "nbformat_minor": 0,
  "metadata": {
    "colab": {
      "provenance": [],
      "authorship_tag": "ABX9TyOg1xtY0blSqiycMpfudD7J",
      "include_colab_link": true
    },
    "kernelspec": {
      "name": "python3",
      "display_name": "Python 3"
    },
    "language_info": {
      "name": "python"
    }
  },
  "cells": [
    {
      "cell_type": "markdown",
      "metadata": {
        "id": "view-in-github",
        "colab_type": "text"
      },
      "source": [
        "<a href=\"https://colab.research.google.com/github/Shinhuynry/AI/blob/main/Homework_week9_Cifar10.ipynb\" target=\"_parent\"><img src=\"https://colab.research.google.com/assets/colab-badge.svg\" alt=\"Open In Colab\"/></a>"
      ]
    },
    {
      "cell_type": "code",
      "execution_count": 2,
      "metadata": {
        "id": "Mtny_QqMwCEv"
      },
      "outputs": [],
      "source": [
        "from keras.datasets import cifar10\n",
        "import matplotlib.pyplot as plt\n",
        "from keras.models import Sequential\n",
        "from keras.layers import Dense\n",
        "from keras.utils import to_categorical #Để chuyển thành one hot encoding\n",
        "from keras.models import load_model\n",
        "import numpy as np     "
      ]
    },
    {
      "cell_type": "code",
      "source": [
        "(train_images, train_labels), (test_images, test_labels) = cifar10.load_data()"
      ],
      "metadata": {
        "colab": {
          "base_uri": "https://localhost:8080/"
        },
        "id": "a9nDipdaxAlz",
        "outputId": "cceb713d-9fe5-4ac4-d2cf-aca5105a3ba6"
      },
      "execution_count": 3,
      "outputs": [
        {
          "output_type": "stream",
          "name": "stdout",
          "text": [
            "Downloading data from https://www.cs.toronto.edu/~kriz/cifar-10-python.tar.gz\n",
            "170498071/170498071 [==============================] - 6s 0us/step\n"
          ]
        }
      ]
    },
    {
      "cell_type": "code",
      "source": [
        "train_images.shape, test_images.shape"
      ],
      "metadata": {
        "colab": {
          "base_uri": "https://localhost:8080/"
        },
        "id": "xjyG--dExFjj",
        "outputId": "894a8c64-e251-4a71-e02d-03d3977ea4ef"
      },
      "execution_count": 4,
      "outputs": [
        {
          "output_type": "execute_result",
          "data": {
            "text/plain": [
              "((50000, 32, 32, 3), (10000, 32, 32, 3))"
            ]
          },
          "metadata": {},
          "execution_count": 4
        }
      ]
    },
    {
      "cell_type": "code",
      "source": [
        "hinh = train_images[88]\n",
        "plt.imshow(hinh, cmap = plt.cm.binary)\n",
        "plt.show"
      ],
      "metadata": {
        "colab": {
          "base_uri": "https://localhost:8080/",
          "height": 447
        },
        "id": "JXRyHx6gxI3K",
        "outputId": "f51ea5cf-7dfa-4aa6-bc58-6ef8307f6a06"
      },
      "execution_count": 10,
      "outputs": [
        {
          "output_type": "execute_result",
          "data": {
            "text/plain": [
              "<function matplotlib.pyplot.show(close=None, block=None)>"
            ]
          },
          "metadata": {},
          "execution_count": 10
        },
        {
          "output_type": "display_data",
          "data": {
            "text/plain": [
              "<Figure size 640x480 with 1 Axes>"
            ],
            "image/png": "[encoded data removed]"
          },
          "metadata": {}
        }
      ]
    },
    {
      "cell_type": "code",
      "source": [
        "class_names = ['airplane', 'automobile', 'bird', 'cat', 'deer','dog', 'frog', 'horse', 'ship', 'truck']"
      ],
      "metadata": {
        "id": "006m_B6S_306"
      },
      "execution_count": 11,
      "outputs": []
    },
    {
      "cell_type": "code",
      "source": [
        "train_images = train_images.reshape((50000,32*32*3)) #Chuyển về input 1 chiều\n",
        "train_images = train_images.astype('float32')/255 #Ảnh có giá trị 0-->255, Scale xuống thành 0-->1\n",
        "test_images =  test_images.reshape((10000, 32*32*3)) #Chuyển về input 1 chiều\n",
        "test_images = test_images.astype('float32')/255\n",
        "train_images.shape"
      ],
      "metadata": {
        "colab": {
          "base_uri": "https://localhost:8080/"
        },
        "id": "rilTu-TfxUEa",
        "outputId": "0c4f3364-7341-4dc4-f9df-96b79a247f52"
      },
      "execution_count": 12,
      "outputs": [
        {
          "output_type": "execute_result",
          "data": {
            "text/plain": [
              "(50000, 3072)"
            ]
          },
          "metadata": {},
          "execution_count": 12
        }
      ]
    },
    {
      "cell_type": "code",
      "source": [
        "train_labels = to_categorical(train_labels, 10) #One hot encoding\n",
        "test_labels = to_categorical(test_labels, 10)\n",
        "print(train_labels.shape)\n",
        "print(test_labels.shape)"
      ],
      "metadata": {
        "colab": {
          "base_uri": "https://localhost:8080/"
        },
        "id": "9KCK-lMRAq_N",
        "outputId": "392a19d3-3b51-49ec-c97a-a9db04c140aa"
      },
      "execution_count": 13,
      "outputs": [
        {
          "output_type": "stream",
          "name": "stdout",
          "text": [
            "(50000, 10)\n",
            "(10000, 10)\n"
          ]
        }
      ]
    },
    {
      "cell_type": "code",
      "source": [
        "model = Sequential()\n",
        "model.add(Dense(512,input_shape = (32*32*3,), activation='relu', name=\"Layer_1\"))\n",
        "model.add(Dense(256, activation='relu', name=\"Layer_2\"))\n",
        "model.add(Dense(128, activation='relu', name=\"Layer_3\"))\n",
        "model.add(Dense(64, activation='relu', name=\"Layer_4\"))\n",
        "model.add(Dense(32, activation='relu', name=\"Layer_5\"))\n",
        "model.add(Dense(10,activation='softmax', name = \"Output_layer\"))\n",
        "print(model.summary())"
      ],
      "metadata": {
        "colab": {
          "base_uri": "https://localhost:8080/"
        },
        "id": "MA-7U9CJAwig",
        "outputId": "c5b575d4-2827-4a92-de24-f62d8e2efb2f"
      },
      "execution_count": 15,
      "outputs": [
        {
          "output_type": "stream",
          "name": "stdout",
          "text": [
            "Model: \"sequential_1\"\n",
            "_________________________________________________________________\n",
            " Layer (type)                Output Shape              Param #   \n",
            "=================================================================\n",
            " Layer_1 (Dense)             (None, 512)               1573376   \n",
            "                                                                 \n",
            " Layer_2 (Dense)             (None, 256)               131328    \n",
            "                                                                 \n",
            " Layer_3 (Dense)             (None, 128)               32896     \n",
            "                                                                 \n",
            " Layer_4 (Dense)             (None, 64)                8256      \n",
            "                                                                 \n",
            " Layer_5 (Dense)             (None, 32)                2080      \n",
            "                                                                 \n",
            " Output_layer (Dense)        (None, 10)                330       \n",
            "                                                                 \n",
            "=================================================================\n",
            "Total params: 1,748,266\n",
            "Trainable params: 1,748,266\n",
            "Non-trainable params: 0\n",
            "_________________________________________________________________\n",
            "None\n"
          ]
        }
      ]
    },
    {
      "cell_type": "code",
      "source": [
        "model.compile(optimizer='rmsprop', loss='categorical_crossentropy',metrics=['accuracy'])\n",
        "model.fit(train_images, train_labels, epochs=10, batch_size=128)"
      ],
      "metadata": {
        "colab": {
          "base_uri": "https://localhost:8080/"
        },
        "id": "8TEEuCwTBRV0",
        "outputId": "a4c2563d-7c41-4ec0-d0f2-b9a5a20cf358"
      },
      "execution_count": 16,
      "outputs": [
        {
          "output_type": "stream",
          "name": "stdout",
          "text": [
            "Epoch 1/10\n",
            "391/391 [==============================] - 16s 37ms/step - loss: 2.0643 - accuracy: 0.2344\n",
            "Epoch 2/10\n",
            "391/391 [==============================] - 14s 36ms/step - loss: 1.8307 - accuracy: 0.3371\n",
            "Epoch 3/10\n",
            "391/391 [==============================] - 14s 36ms/step - loss: 1.7388 - accuracy: 0.3762\n",
            "Epoch 4/10\n",
            "391/391 [==============================] - 16s 41ms/step - loss: 1.6696 - accuracy: 0.4036\n",
            "Epoch 5/10\n",
            "391/391 [==============================] - 14s 36ms/step - loss: 1.6187 - accuracy: 0.4223\n",
            "Epoch 6/10\n",
            "391/391 [==============================] - 14s 35ms/step - loss: 1.5696 - accuracy: 0.4373\n",
            "Epoch 7/10\n",
            "391/391 [==============================] - 14s 36ms/step - loss: 1.5316 - accuracy: 0.4522\n",
            "Epoch 8/10\n",
            "391/391 [==============================] - 14s 36ms/step - loss: 1.5005 - accuracy: 0.4642\n",
            "Epoch 9/10\n",
            "391/391 [==============================] - 14s 36ms/step - loss: 1.4703 - accuracy: 0.4751\n",
            "Epoch 10/10\n",
            "391/391 [==============================] - 14s 36ms/step - loss: 1.4459 - accuracy: 0.4825\n"
          ]
        },
        {
          "output_type": "execute_result",
          "data": {
            "text/plain": [
              "<keras.callbacks.History at 0x7fb8bc72fbb0>"
            ]
          },
          "metadata": {},
          "execution_count": 16
        }
      ]
    },
    {
      "cell_type": "code",
      "source": [
        "model.fit(train_images, train_labels, epochs=40, batch_size=128)"
      ],
      "metadata": {
        "colab": {
          "base_uri": "https://localhost:8080/"
        },
        "id": "LSKa_dTvCcAM",
        "outputId": "552e8629-a2e4-4651-c5c0-e814f3a5c9f8"
      },
      "execution_count": 17,
      "outputs": [
        {
          "output_type": "stream",
          "name": "stdout",
          "text": [
            "Epoch 1/40\n",
            "391/391 [==============================] - 14s 36ms/step - loss: 1.4175 - accuracy: 0.4930\n",
            "Epoch 2/40\n",
            "391/391 [==============================] - 14s 36ms/step - loss: 1.3896 - accuracy: 0.5033\n",
            "Epoch 3/40\n",
            "391/391 [==============================] - 14s 37ms/step - loss: 1.3715 - accuracy: 0.5114\n",
            "Epoch 4/40\n",
            "391/391 [==============================] - 15s 38ms/step - loss: 1.3490 - accuracy: 0.5178\n",
            "Epoch 5/40\n",
            "391/391 [==============================] - 14s 35ms/step - loss: 1.3265 - accuracy: 0.5251\n",
            "Epoch 6/40\n",
            "391/391 [==============================] - 15s 38ms/step - loss: 1.3025 - accuracy: 0.5341\n",
            "Epoch 7/40\n",
            "391/391 [==============================] - 14s 35ms/step - loss: 1.2818 - accuracy: 0.5395\n",
            "Epoch 8/40\n",
            "391/391 [==============================] - 14s 36ms/step - loss: 1.2635 - accuracy: 0.5472\n",
            "Epoch 9/40\n",
            "391/391 [==============================] - 14s 36ms/step - loss: 1.2470 - accuracy: 0.5537\n",
            "Epoch 10/40\n",
            "391/391 [==============================] - 14s 36ms/step - loss: 1.2286 - accuracy: 0.5596\n",
            "Epoch 11/40\n",
            "391/391 [==============================] - 14s 35ms/step - loss: 1.2112 - accuracy: 0.5653\n",
            "Epoch 12/40\n",
            "391/391 [==============================] - 14s 36ms/step - loss: 1.1897 - accuracy: 0.5740\n",
            "Epoch 13/40\n",
            "391/391 [==============================] - 14s 36ms/step - loss: 1.1709 - accuracy: 0.5784\n",
            "Epoch 14/40\n",
            "391/391 [==============================] - 14s 36ms/step - loss: 1.1558 - accuracy: 0.5860\n",
            "Epoch 15/40\n",
            "391/391 [==============================] - 14s 36ms/step - loss: 1.1376 - accuracy: 0.5920\n",
            "Epoch 16/40\n",
            "391/391 [==============================] - 14s 37ms/step - loss: 1.1232 - accuracy: 0.5962\n",
            "Epoch 17/40\n",
            "391/391 [==============================] - 14s 37ms/step - loss: 1.1038 - accuracy: 0.6035\n",
            "Epoch 18/40\n",
            "391/391 [==============================] - 14s 36ms/step - loss: 1.0914 - accuracy: 0.6090\n",
            "Epoch 19/40\n",
            "391/391 [==============================] - 14s 36ms/step - loss: 1.0723 - accuracy: 0.6132\n",
            "Epoch 20/40\n",
            "391/391 [==============================] - 14s 35ms/step - loss: 1.0624 - accuracy: 0.6168\n",
            "Epoch 21/40\n",
            "391/391 [==============================] - 14s 36ms/step - loss: 1.0449 - accuracy: 0.6221\n",
            "Epoch 22/40\n",
            "391/391 [==============================] - 14s 36ms/step - loss: 1.0337 - accuracy: 0.6284\n",
            "Epoch 23/40\n",
            "391/391 [==============================] - 14s 35ms/step - loss: 1.0182 - accuracy: 0.6329\n",
            "Epoch 24/40\n",
            "391/391 [==============================] - 14s 36ms/step - loss: 1.0033 - accuracy: 0.6387\n",
            "Epoch 25/40\n",
            "391/391 [==============================] - 14s 36ms/step - loss: 0.9881 - accuracy: 0.6455\n",
            "Epoch 26/40\n",
            "391/391 [==============================] - 14s 36ms/step - loss: 0.9800 - accuracy: 0.6471\n",
            "Epoch 27/40\n",
            "391/391 [==============================] - 14s 35ms/step - loss: 0.9669 - accuracy: 0.6507\n",
            "Epoch 28/40\n",
            "391/391 [==============================] - 14s 35ms/step - loss: 0.9488 - accuracy: 0.6559\n",
            "Epoch 29/40\n",
            "391/391 [==============================] - 14s 35ms/step - loss: 0.9403 - accuracy: 0.6627\n",
            "Epoch 30/40\n",
            "391/391 [==============================] - 14s 37ms/step - loss: 0.9292 - accuracy: 0.6633\n",
            "Epoch 31/40\n",
            "391/391 [==============================] - 14s 37ms/step - loss: 0.9182 - accuracy: 0.6716\n",
            "Epoch 32/40\n",
            "391/391 [==============================] - 14s 36ms/step - loss: 0.9098 - accuracy: 0.6738\n",
            "Epoch 33/40\n",
            "391/391 [==============================] - 14s 37ms/step - loss: 0.8992 - accuracy: 0.6767\n",
            "Epoch 34/40\n",
            "391/391 [==============================] - 14s 36ms/step - loss: 0.8841 - accuracy: 0.6832\n",
            "Epoch 35/40\n",
            "391/391 [==============================] - 14s 35ms/step - loss: 0.8800 - accuracy: 0.6843\n",
            "Epoch 36/40\n",
            "391/391 [==============================] - 14s 35ms/step - loss: 0.8671 - accuracy: 0.6877\n",
            "Epoch 37/40\n",
            "391/391 [==============================] - 14s 35ms/step - loss: 0.8544 - accuracy: 0.6926\n",
            "Epoch 38/40\n",
            "391/391 [==============================] - 14s 35ms/step - loss: 0.8421 - accuracy: 0.6984\n",
            "Epoch 39/40\n",
            "391/391 [==============================] - 14s 36ms/step - loss: 0.8365 - accuracy: 0.7009\n",
            "Epoch 40/40\n",
            "391/391 [==============================] - 14s 36ms/step - loss: 0.8269 - accuracy: 0.7029\n"
          ]
        },
        {
          "output_type": "execute_result",
          "data": {
            "text/plain": [
              "<keras.callbacks.History at 0x7fb8bbc4cfd0>"
            ]
          },
          "metadata": {},
          "execution_count": 17
        }
      ]
    },
    {
      "cell_type": "code",
      "source": [
        "model.fit(train_images, train_labels, epochs=40, batch_size=256)"
      ],
      "metadata": {
        "colab": {
          "base_uri": "https://localhost:8080/"
        },
        "id": "cej40WjJEq5a",
        "outputId": "9fd3cf1f-428a-4726-c1ba-1d7ea12d7a52"
      },
      "execution_count": 18,
      "outputs": [
        {
          "output_type": "stream",
          "name": "stdout",
          "text": [
            "Epoch 1/40\n",
            "196/196 [==============================] - 11s 54ms/step - loss: 0.7409 - accuracy: 0.7324\n",
            "Epoch 2/40\n",
            "196/196 [==============================] - 11s 55ms/step - loss: 0.7253 - accuracy: 0.7390\n",
            "Epoch 3/40\n",
            "196/196 [==============================] - 11s 56ms/step - loss: 0.7127 - accuracy: 0.7428\n",
            "Epoch 4/40\n",
            "196/196 [==============================] - 11s 56ms/step - loss: 0.6971 - accuracy: 0.7491\n",
            "Epoch 5/40\n",
            "196/196 [==============================] - 11s 55ms/step - loss: 0.6865 - accuracy: 0.7508\n",
            "Epoch 6/40\n",
            "196/196 [==============================] - 10s 49ms/step - loss: 0.6828 - accuracy: 0.7533\n",
            "Epoch 7/40\n",
            "196/196 [==============================] - 11s 56ms/step - loss: 0.6677 - accuracy: 0.7575\n",
            "Epoch 8/40\n",
            "196/196 [==============================] - 11s 56ms/step - loss: 0.6589 - accuracy: 0.7636\n",
            "Epoch 9/40\n",
            "196/196 [==============================] - 12s 62ms/step - loss: 0.6560 - accuracy: 0.7636\n",
            "Epoch 10/40\n",
            "196/196 [==============================] - 11s 56ms/step - loss: 0.6389 - accuracy: 0.7703\n",
            "Epoch 11/40\n",
            "196/196 [==============================] - 11s 56ms/step - loss: 0.6361 - accuracy: 0.7681\n",
            "Epoch 12/40\n",
            "196/196 [==============================] - 10s 51ms/step - loss: 0.6329 - accuracy: 0.7710\n",
            "Epoch 13/40\n",
            "196/196 [==============================] - 11s 54ms/step - loss: 0.6202 - accuracy: 0.7759\n",
            "Epoch 14/40\n",
            "196/196 [==============================] - 11s 55ms/step - loss: 0.6175 - accuracy: 0.7774\n",
            "Epoch 15/40\n",
            "196/196 [==============================] - 11s 56ms/step - loss: 0.6085 - accuracy: 0.7822\n",
            "Epoch 16/40\n",
            "196/196 [==============================] - 11s 55ms/step - loss: 0.5949 - accuracy: 0.7866\n",
            "Epoch 17/40\n",
            "196/196 [==============================] - 11s 55ms/step - loss: 0.5919 - accuracy: 0.7867\n",
            "Epoch 18/40\n",
            "196/196 [==============================] - 10s 50ms/step - loss: 0.5832 - accuracy: 0.7907\n",
            "Epoch 19/40\n",
            "196/196 [==============================] - 11s 56ms/step - loss: 0.5805 - accuracy: 0.7899\n",
            "Epoch 20/40\n",
            "196/196 [==============================] - 11s 56ms/step - loss: 0.5707 - accuracy: 0.7951\n",
            "Epoch 21/40\n",
            "196/196 [==============================] - 11s 56ms/step - loss: 0.5607 - accuracy: 0.7980\n",
            "Epoch 22/40\n",
            "196/196 [==============================] - 11s 56ms/step - loss: 0.5538 - accuracy: 0.7991\n",
            "Epoch 23/40\n",
            "196/196 [==============================] - 11s 54ms/step - loss: 0.5552 - accuracy: 0.8008\n",
            "Epoch 24/40\n",
            "196/196 [==============================] - 10s 51ms/step - loss: 0.5478 - accuracy: 0.8032\n",
            "Epoch 25/40\n",
            "196/196 [==============================] - 11s 56ms/step - loss: 0.5448 - accuracy: 0.8034\n",
            "Epoch 26/40\n",
            "196/196 [==============================] - 11s 56ms/step - loss: 0.5378 - accuracy: 0.8068\n",
            "Epoch 27/40\n",
            "196/196 [==============================] - 11s 56ms/step - loss: 0.5359 - accuracy: 0.8071\n",
            "Epoch 28/40\n",
            "196/196 [==============================] - 11s 56ms/step - loss: 0.5292 - accuracy: 0.8103\n",
            "Epoch 29/40\n",
            "196/196 [==============================] - 10s 53ms/step - loss: 0.5227 - accuracy: 0.8136\n",
            "Epoch 30/40\n",
            "196/196 [==============================] - 10s 53ms/step - loss: 0.5158 - accuracy: 0.8153\n",
            "Epoch 31/40\n",
            "196/196 [==============================] - 11s 57ms/step - loss: 0.5127 - accuracy: 0.8157\n",
            "Epoch 32/40\n",
            "196/196 [==============================] - 11s 56ms/step - loss: 0.5019 - accuracy: 0.8194\n",
            "Epoch 33/40\n",
            "196/196 [==============================] - 11s 56ms/step - loss: 0.5011 - accuracy: 0.8204\n",
            "Epoch 34/40\n",
            "196/196 [==============================] - 11s 56ms/step - loss: 0.4940 - accuracy: 0.8236\n",
            "Epoch 35/40\n",
            "196/196 [==============================] - 10s 51ms/step - loss: 0.4906 - accuracy: 0.8246\n",
            "Epoch 36/40\n",
            "196/196 [==============================] - 11s 55ms/step - loss: 0.4863 - accuracy: 0.8266\n",
            "Epoch 37/40\n",
            "196/196 [==============================] - 11s 56ms/step - loss: 0.4874 - accuracy: 0.8264\n",
            "Epoch 38/40\n",
            "196/196 [==============================] - 11s 56ms/step - loss: 0.4803 - accuracy: 0.8295\n",
            "Epoch 39/40\n",
            "196/196 [==============================] - 11s 56ms/step - loss: 0.4751 - accuracy: 0.8301\n",
            "Epoch 40/40\n",
            "196/196 [==============================] - 11s 56ms/step - loss: 0.4664 - accuracy: 0.8346\n"
          ]
        },
        {
          "output_type": "execute_result",
          "data": {
            "text/plain": [
              "<keras.callbacks.History at 0x7fb8bc799a60>"
            ]
          },
          "metadata": {},
          "execution_count": 18
        }
      ]
    },
    {
      "cell_type": "code",
      "source": [
        "model.fit(train_images, train_labels, epochs=20, batch_size=256)"
      ],
      "metadata": {
        "colab": {
          "base_uri": "https://localhost:8080/"
        },
        "id": "uCY-Ml7QIq2V",
        "outputId": "f918e5e3-ed04-4641-e215-38173458c564"
      },
      "execution_count": 19,
      "outputs": [
        {
          "output_type": "stream",
          "name": "stdout",
          "text": [
            "Epoch 1/20\n",
            "196/196 [==============================] - 11s 56ms/step - loss: 0.4677 - accuracy: 0.8337\n",
            "Epoch 2/20\n",
            "196/196 [==============================] - 11s 56ms/step - loss: 0.4600 - accuracy: 0.8360\n",
            "Epoch 3/20\n",
            "196/196 [==============================] - 11s 56ms/step - loss: 0.4556 - accuracy: 0.8372\n",
            "Epoch 4/20\n",
            "196/196 [==============================] - 11s 56ms/step - loss: 0.4572 - accuracy: 0.8369\n",
            "Epoch 5/20\n",
            "196/196 [==============================] - 10s 49ms/step - loss: 0.4511 - accuracy: 0.8391\n",
            "Epoch 6/20\n",
            "196/196 [==============================] - 11s 56ms/step - loss: 0.4440 - accuracy: 0.8428\n",
            "Epoch 7/20\n",
            "196/196 [==============================] - 11s 56ms/step - loss: 0.4401 - accuracy: 0.8430\n",
            "Epoch 8/20\n",
            "196/196 [==============================] - 11s 56ms/step - loss: 0.4357 - accuracy: 0.8426\n",
            "Epoch 9/20\n",
            "196/196 [==============================] - 11s 56ms/step - loss: 0.4371 - accuracy: 0.8440\n",
            "Epoch 10/20\n",
            "196/196 [==============================] - 11s 54ms/step - loss: 0.4386 - accuracy: 0.8439\n",
            "Epoch 11/20\n",
            "196/196 [==============================] - 10s 51ms/step - loss: 0.4234 - accuracy: 0.8486\n",
            "Epoch 12/20\n",
            "196/196 [==============================] - 11s 55ms/step - loss: 0.4229 - accuracy: 0.8489\n",
            "Epoch 13/20\n",
            "196/196 [==============================] - 11s 56ms/step - loss: 0.4166 - accuracy: 0.8523\n",
            "Epoch 14/20\n",
            "196/196 [==============================] - 11s 56ms/step - loss: 0.4132 - accuracy: 0.8549\n",
            "Epoch 15/20\n",
            "196/196 [==============================] - 11s 56ms/step - loss: 0.4117 - accuracy: 0.8536\n",
            "Epoch 16/20\n",
            "196/196 [==============================] - 10s 51ms/step - loss: 0.4097 - accuracy: 0.8544\n",
            "Epoch 17/20\n",
            "196/196 [==============================] - 11s 55ms/step - loss: 0.4021 - accuracy: 0.8577\n",
            "Epoch 18/20\n",
            "196/196 [==============================] - 11s 56ms/step - loss: 0.4072 - accuracy: 0.8571\n",
            "Epoch 19/20\n",
            "196/196 [==============================] - 11s 56ms/step - loss: 0.4042 - accuracy: 0.8576\n",
            "Epoch 20/20\n",
            "196/196 [==============================] - 11s 56ms/step - loss: 0.3968 - accuracy: 0.8600\n"
          ]
        },
        {
          "output_type": "execute_result",
          "data": {
            "text/plain": [
              "<keras.callbacks.History at 0x7fb8bbc61040>"
            ]
          },
          "metadata": {},
          "execution_count": 19
        }
      ]
    },
    {
      "cell_type": "code",
      "source": [
        "model.fit(train_images, train_labels, epochs=20, batch_size=256)\n"
      ],
      "metadata": {
        "colab": {
          "base_uri": "https://localhost:8080/"
        },
        "id": "cgaB_rPUL8Wc",
        "outputId": "e1e1c411-d181-4d29-b9c0-21d2042df9ec"
      },
      "execution_count": 20,
      "outputs": [
        {
          "output_type": "stream",
          "name": "stdout",
          "text": [
            "Epoch 1/20\n",
            "196/196 [==============================] - 11s 56ms/step - loss: 0.3911 - accuracy: 0.8615\n",
            "Epoch 2/20\n",
            "196/196 [==============================] - 11s 56ms/step - loss: 0.3923 - accuracy: 0.8617\n",
            "Epoch 3/20\n",
            "196/196 [==============================] - 11s 56ms/step - loss: 0.3959 - accuracy: 0.8609\n",
            "Epoch 4/20\n",
            "196/196 [==============================] - 10s 52ms/step - loss: 0.3838 - accuracy: 0.8643\n",
            "Epoch 5/20\n",
            "196/196 [==============================] - 10s 53ms/step - loss: 0.3780 - accuracy: 0.8661\n",
            "Epoch 6/20\n",
            "196/196 [==============================] - 12s 61ms/step - loss: 0.3859 - accuracy: 0.8651\n",
            "Epoch 7/20\n",
            "196/196 [==============================] - 11s 56ms/step - loss: 0.3807 - accuracy: 0.8667\n",
            "Epoch 8/20\n",
            "196/196 [==============================] - 11s 56ms/step - loss: 0.3789 - accuracy: 0.8671\n",
            "Epoch 9/20\n",
            "196/196 [==============================] - 11s 56ms/step - loss: 0.3796 - accuracy: 0.8659\n",
            "Epoch 10/20\n",
            "196/196 [==============================] - 10s 53ms/step - loss: 0.3781 - accuracy: 0.8697\n",
            "Epoch 11/20\n",
            "196/196 [==============================] - 10s 52ms/step - loss: 0.3662 - accuracy: 0.8705\n",
            "Epoch 12/20\n",
            "196/196 [==============================] - 11s 56ms/step - loss: 0.3669 - accuracy: 0.8714\n",
            "Epoch 13/20\n",
            "196/196 [==============================] - 11s 56ms/step - loss: 0.3693 - accuracy: 0.8710\n",
            "Epoch 14/20\n",
            "196/196 [==============================] - 11s 56ms/step - loss: 0.3598 - accuracy: 0.8755\n",
            "Epoch 15/20\n",
            "196/196 [==============================] - 11s 56ms/step - loss: 0.3589 - accuracy: 0.8737\n",
            "Epoch 16/20\n",
            "196/196 [==============================] - 10s 51ms/step - loss: 0.3556 - accuracy: 0.8747\n",
            "Epoch 17/20\n",
            "196/196 [==============================] - 11s 54ms/step - loss: 0.3570 - accuracy: 0.8755\n",
            "Epoch 18/20\n",
            "196/196 [==============================] - 11s 56ms/step - loss: 0.3467 - accuracy: 0.8779\n",
            "Epoch 19/20\n",
            "196/196 [==============================] - 11s 56ms/step - loss: 0.3473 - accuracy: 0.8802\n",
            "Epoch 20/20\n",
            "196/196 [==============================] - 11s 56ms/step - loss: 0.3376 - accuracy: 0.8811\n"
          ]
        },
        {
          "output_type": "execute_result",
          "data": {
            "text/plain": [
              "<keras.callbacks.History at 0x7fb8bd002550>"
            ]
          },
          "metadata": {},
          "execution_count": 20
        }
      ]
    },
    {
      "cell_type": "code",
      "source": [
        "model.fit(train_images, train_labels, epochs=20, batch_size=256)"
      ],
      "metadata": {
        "colab": {
          "base_uri": "https://localhost:8080/"
        },
        "id": "Cevn3HzqNpVn",
        "outputId": "f13b33ef-c166-453b-ca23-7e5547500425"
      },
      "execution_count": 21,
      "outputs": [
        {
          "output_type": "stream",
          "name": "stdout",
          "text": [
            "Epoch 1/20\n",
            "196/196 [==============================] - 11s 57ms/step - loss: 0.3484 - accuracy: 0.8773\n",
            "Epoch 2/20\n",
            "196/196 [==============================] - 11s 56ms/step - loss: 0.3409 - accuracy: 0.8821\n",
            "Epoch 3/20\n",
            "196/196 [==============================] - 11s 56ms/step - loss: 0.3449 - accuracy: 0.8797\n",
            "Epoch 4/20\n",
            "196/196 [==============================] - 12s 60ms/step - loss: 0.3337 - accuracy: 0.8836\n",
            "Epoch 5/20\n",
            "196/196 [==============================] - 10s 53ms/step - loss: 0.3376 - accuracy: 0.8824\n",
            "Epoch 6/20\n",
            "196/196 [==============================] - 11s 56ms/step - loss: 0.3317 - accuracy: 0.8843\n",
            "Epoch 7/20\n",
            "196/196 [==============================] - 11s 57ms/step - loss: 0.3368 - accuracy: 0.8839\n",
            "Epoch 8/20\n",
            "196/196 [==============================] - 11s 57ms/step - loss: 0.3339 - accuracy: 0.8842\n",
            "Epoch 9/20\n",
            "196/196 [==============================] - 11s 57ms/step - loss: 0.3287 - accuracy: 0.8860\n",
            "Epoch 10/20\n",
            "196/196 [==============================] - 11s 55ms/step - loss: 0.3310 - accuracy: 0.8852\n",
            "Epoch 11/20\n",
            "196/196 [==============================] - 10s 52ms/step - loss: 0.3213 - accuracy: 0.8872\n",
            "Epoch 12/20\n",
            "196/196 [==============================] - 11s 57ms/step - loss: 0.3237 - accuracy: 0.8870\n",
            "Epoch 13/20\n",
            "196/196 [==============================] - 11s 57ms/step - loss: 0.3186 - accuracy: 0.8897\n",
            "Epoch 14/20\n",
            "196/196 [==============================] - 11s 57ms/step - loss: 0.3106 - accuracy: 0.8900\n",
            "Epoch 15/20\n",
            "196/196 [==============================] - 11s 56ms/step - loss: 0.3194 - accuracy: 0.8899\n",
            "Epoch 16/20\n",
            "196/196 [==============================] - 11s 54ms/step - loss: 0.3107 - accuracy: 0.8904\n",
            "Epoch 17/20\n",
            "196/196 [==============================] - 10s 52ms/step - loss: 0.3172 - accuracy: 0.8912\n",
            "Epoch 18/20\n",
            "196/196 [==============================] - 11s 57ms/step - loss: 0.3120 - accuracy: 0.8930\n",
            "Epoch 19/20\n",
            "196/196 [==============================] - 11s 56ms/step - loss: 0.3088 - accuracy: 0.8925\n",
            "Epoch 20/20\n",
            "196/196 [==============================] - 11s 57ms/step - loss: 0.3014 - accuracy: 0.8963\n"
          ]
        },
        {
          "output_type": "execute_result",
          "data": {
            "text/plain": [
              "<keras.callbacks.History at 0x7fb8bd003a90>"
            ]
          },
          "metadata": {},
          "execution_count": 21
        }
      ]
    },
    {
      "cell_type": "code",
      "source": [
        "x_sample = test_images[30:45]\n",
        "pred = np.argmax(model.predict(x_sample), axis=-1)\n",
        "x_sample = np.reshape(x_sample, (15,32, 32,3))\n",
        "class_name = [\"airplane\",\"automobile\",\"bird\",\"cat\",\"deer\",\"dog\",\"frog\",\"horse\",\"ship\",\"truck\"]\n",
        "for i in range(15):\n",
        "  plt.subplot(3,5,i+1)\n",
        "  plt.tight_layout()\n",
        "  plt.imshow(x_sample[i], cmap='gray', interpolation='none')\n",
        "  plt.title('{}'.format(class_name[pred[i]]))\n",
        "  plt.xticks([])\n",
        "  plt.yticks([])"
      ],
      "metadata": {
        "colab": {
          "base_uri": "https://localhost:8080/",
          "height": 497
        },
        "id": "9v-ZYuQsSZ7U",
        "outputId": "d0ad4864-b79b-48f5-ffad-38a76fede1c0"
      },
      "execution_count": 22,
      "outputs": [
        {
          "output_type": "stream",
          "name": "stdout",
          "text": [
            "1/1 [==============================] - 1s 667ms/step\n"
          ]
        },
        {
          "output_type": "stream",
          "name": "stderr",
          "text": [
            "<ipython-input-22-3bfb2f671bb0>:6: MatplotlibDeprecationWarning: Auto-removal of overlapping axes is deprecated since 3.6 and will be removed two minor releases later; explicitly call ax.remove() as needed.\n",
            "  plt.subplot(3,5,i+1)\n"
          ]
        },
        {
          "output_type": "display_data",
          "data": {
            "text/plain": [
              "<Figure size 640x480 with 14 Axes>"
            ],
            "image/png": "[encoded data removed]"
          },
          "metadata": {}
        }
      ]
    }
  ]
}