{
  "nbformat": 4,
  "nbformat_minor": 0,
  "metadata": {
    "colab": {
      "provenance": [],
      "mount_file_id": "15ZP3TxJUyrCpuWtWv0mfFaVM9HkRIE01",
      "authorship_tag": "ABX9TyNmhPTGlcy7SwkPXtVyCtaM",
      "include_colab_link": true
    },
    "kernelspec": {
      "name": "python3",
      "display_name": "Python 3"
    },
    "language_info": {
      "name": "python"
    }
  },
  "cells": [
    {
      "cell_type": "markdown",
      "metadata": {
        "id": "view-in-github",
        "colab_type": "text"
      },
      "source": [
        "<a href=\"https://colab.research.google.com/github/Shinhuynry/AI/blob/main/HomeWork_week10.ipynb\" target=\"_parent\"><img src=\"https://colab.research.google.com/assets/colab-badge.svg\" alt=\"Open In Colab\"/></a>"
      ]
    },
    {
      "cell_type": "code",
      "execution_count": 1,
      "metadata": {
        "id": "XYwpdAQoFNui"
      },
      "outputs": [],
      "source": [
        "#tạo mang x_train mà y _train để chứa hình để train AI \n",
        "import numpy as np\n",
        "from keras.utils.image_utils import img_to_array\n",
        "import matplotlib.pyplot as plt\n",
        "from keras.utils import load_img"
      ]
    },
    {
      "cell_type": "code",
      "source": [
        "from matplotlib.image import imread\n",
        "foldername = ('/content/drive/MyDrive/AnhChanDung/')\n",
        "\n",
        "#Lấy 1 bức đầu tiên để định dạng giá trị cảu x\n",
        "img = load_img('/content/drive/MyDrive/AnhChanDung/A1.jpg',target_size=(32,32))\n",
        "#Tạo x_train với ảnh tương ứng\n",
        "x_train = img\n",
        "#Tạo một y_train mới ứng với số ảnh được load vào\n",
        "y_train = np.array([[1]])\n",
        "stt = 1\n",
        "\n",
        "#Cho lấy data là 60  bức ảnh\n",
        "#lấy 10 tấm đầu từ 0-9\n",
        "for a in range (10):\n",
        "  #Lấy đường dẫn của file ảnh trong drive\n",
        "    filename = foldername + 'A' + str(a) + '.jpg'\n",
        "    #Lấy ảnh từ file ảnh\n",
        "    img = load_img(filename,target_size=(32,32))\n",
        "    img = img_to_array(img)\n",
        "\n",
        "    #Thêm ảnh vừa tạo vào x_train\n",
        "    x_train = np.append(x_train, img, 0)\n",
        "    #Làm tương tự cho y_train\n",
        "    mang_stt = [[stt]]\n",
        "    y_train = np.append(y_train, mang_stt, 0)\n",
        "\n",
        "#Lấy tiếp 50 tấm còn lại từ 10 đến 59\n",
        "('''for i in range(5): \n",
        "  for j in range(10):\n",
        "    #Lấy đường dẫn của file ảnh trong drive\n",
        "    filename = foldername + 'A' + str(i) + str(j) + '.jpg'\n",
        "    #Lấy ảnh từ file ảnh\n",
        "    img = load_img(filename,target_size=(32,32))\n",
        "    img = img_to_array(img)\n",
        "\n",
        "    #Thêm ảnh vừa tạo vào x_train\n",
        "    x_train = np.append(x_train, img, 0)\n",
        "    #Làm tương tự cho y_train\n",
        "    mang_stt = [[stt]]\n",
        "    y_train = np.append(y_train, mang_stt, 0)''')"
      ],
      "metadata": {
        "colab": {
          "base_uri": "https://localhost:8080/",
          "height": 87
        },
        "id": "bJxoHMKgF6Ww",
        "outputId": "649e6236-728c-4641-fa0f-3af20b3cde6b"
      },
      "execution_count": 11,
      "outputs": [
        {
          "output_type": "execute_result",
          "data": {
            "text/plain": [
              "\"for i in range(5): \\n  for j in range(10):\\n    #Lấy đường dẫn của file ảnh trong drive\\n    filename = foldername + 'A' + str(i) + str(j) + '.jpg'\\n    #Lấy ảnh từ file ảnh\\n    img = load_img(filename,target_size=(32,32))\\n    img = img_to_array(img)\\n\\n    #Thêm ảnh vừa tạo vào x_train\\n    x_train = np.append(x_train, img, 0)\\n    #Làm tương tự cho y_train\\n    mang_stt = [[stt]]\\n    y_train = np.append(y_train, mang_stt, 0)\""
            ],
            "application/vnd.google.colaboratory.intrinsic+json": {
              "type": "string"
            }
          },
          "metadata": {},
          "execution_count": 11
        }
      ]
    },
    {
      "cell_type": "code",
      "source": [
        "#reshape lại data vừa tạo\n",
        "x_train = x_train.reshape((61,32*32*3))\n",
        "x_train = x_train.astype('float32')/255"
      ],
      "metadata": {
        "id": "Is6N3xYSMHxe"
      },
      "execution_count": null,
      "outputs": []
    },
    {
      "cell_type": "code",
      "source": [
        "#Reshape lại y_train\n",
        "from keras.utils import to_categorical           #Ham chuyển qua \n",
        "\n",
        "#chuyển sang 1 kênh\n",
        "y_train = to_categorical(y_train, 1)            #Neu chay di chay laij nhieu lan se khien no tran gia tri"
      ],
      "metadata": {
        "id": "hdOAJsY6MKoM"
      },
      "execution_count": null,
      "outputs": []
    },
    {
      "cell_type": "code",
      "source": [
        "from keras.layers.attention.multi_head_attention import activation\n",
        "#cau hinh\n",
        "from keras.models import Sequential\n",
        "from keras.layers import Dense\n",
        "\n",
        "#Tao cau hinh\n",
        "model = Sequential()\n",
        "\n",
        "#tao cac tang input, ao va output can thiet\n",
        "model.add(Dense(2000, input_shape = (32*32*3,),activation = 'relu'))\n",
        "#lop giua la lop ao voi 1000 noron\n",
        "model.add(Dense(1000, activation = 'relu'))\n",
        "#lop output\n",
        "model.add(Dense(100,activation= 'softmax'))\n",
        "model.summary()"
      ],
      "metadata": {
        "id": "k930mPXtMMtq"
      },
      "execution_count": null,
      "outputs": []
    },
    {
      "cell_type": "code",
      "source": [
        "from keras.models import load_model\n",
        "#load mo hinh tu file da lưu trong drive\n",
        "model = load_model('/content/drive/MyDrive/Picture/cifar100_data.h5')"
      ],
      "metadata": {
        "id": "FDn-o7nZMPVs"
      },
      "execution_count": null,
      "outputs": []
    },
    {
      "cell_type": "code",
      "source": [
        "#compile model mới\n",
        "model.compile(optimizer='rmsprop',loss='categorical_crossentropy',metrics=['accuracy'])\n",
        "\n",
        "# Mỗi lần học chỉ 1280 dữ liệu, không học hết 60000 dữ liệu , học tổng cộng 10 lần\n",
        "model.fit(x_train,y_train,epochs = 10, batch_size= 61)"
      ],
      "metadata": {
        "id": "8AABcPSMMTyE"
      },
      "execution_count": null,
      "outputs": []
    },
    {
      "cell_type": "code",
      "source": [
        "model.save('/content/drive/MyDrive/Picture/cifar100_data.h5')"
      ],
      "metadata": {
        "id": "PDVYEOs5MUYz"
      },
      "execution_count": null,
      "outputs": []
    }
  ]
}